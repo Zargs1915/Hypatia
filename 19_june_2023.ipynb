{
  "nbformat": 4,
  "nbformat_minor": 0,
  "metadata": {
    "colab": {
      "provenance": [],
      "authorship_tag": "ABX9TyPIREM5spQjPbs7gV4z6KVb",
      "include_colab_link": true
    },
    "kernelspec": {
      "name": "python3",
      "display_name": "Python 3"
    },
    "language_info": {
      "name": "python"
    }
  },
  "cells": [
    {
      "cell_type": "markdown",
      "metadata": {
        "id": "view-in-github",
        "colab_type": "text"
      },
      "source": [
        "<a href=\"https://colab.research.google.com/github/Zargs1915/Hypatia/blob/main/19_june_2023.ipynb\" target=\"_parent\"><img src=\"https://colab.research.google.com/assets/colab-badge.svg\" alt=\"Open In Colab\"/></a>"
      ]
    },
    {
      "cell_type": "code",
      "source": [
        "import urllib\n",
        "\n",
        "# Assuming `currURL` contains the URL of the \"transactions.csv\" file\n",
        "response = urllib.urlopen(currURL)\n",
        "lines = response.readlines()\n",
        "\n",
        "class Transaction:\n",
        "    def __init__(self, date, amount):\n",
        "        self.date = date\n",
        "        self.amount = amount\n",
        "\n",
        "class BankAccount:\n",
        "    def __init__(self):\n",
        "        self.transactions = []\n",
        "\n",
        "    def addTrans(self, transaction):\n",
        "        self.transactions.append(transaction)\n",
        "\n",
        "# Create an instance of BankAccount\n",
        "bankaccount = BankAccount()\n",
        "\n",
        "# Read each line and create transaction objects\n",
        "for line in lines:\n",
        "    # Split the line into date and amount using split()\n",
        "    date, amount = line.strip().split(',')\n",
        "\n",
        "    # Create a transaction object\n",
        "    transaction = Transaction(date, amount)\n",
        "\n",
        "    # Add the transaction to the account\n",
        "    bankaccount.addTrans(transaction)\n",
        "\n",
        "# Print each transaction\n",
        "for i in range(len(bankaccount.transactions)):\n",
        "    transaction = bankaccount.transactions[i]\n",
        "    print(f\"Transaction {i+1}: Amount: {transaction.amount}, Date: {transaction.date}\")\n"
      ],
      "metadata": {
        "colab": {
          "base_uri": "https://localhost:8080/",
          "height": 246
        },
        "id": "g6oyEcp0Ekhx",
        "outputId": "ee9d6266-89e4-47be-c434-224b10031bbc"
      },
      "execution_count": null,
      "outputs": [
        {
          "output_type": "error",
          "ename": "AttributeError",
          "evalue": "ignored",
          "traceback": [
            "\u001b[0;31m---------------------------------------------------------------------------\u001b[0m",
            "\u001b[0;31mAttributeError\u001b[0m                            Traceback (most recent call last)",
            "\u001b[0;32m<ipython-input-2-a9b56c1ccc6a>\u001b[0m in \u001b[0;36m<cell line: 4>\u001b[0;34m()\u001b[0m\n\u001b[1;32m      2\u001b[0m \u001b[0;34m\u001b[0m\u001b[0m\n\u001b[1;32m      3\u001b[0m \u001b[0;31m# Assuming `currURL` contains the URL of the \"transactions.csv\" file\u001b[0m\u001b[0;34m\u001b[0m\u001b[0;34m\u001b[0m\u001b[0m\n\u001b[0;32m----> 4\u001b[0;31m \u001b[0mresponse\u001b[0m \u001b[0;34m=\u001b[0m \u001b[0murllib\u001b[0m\u001b[0;34m.\u001b[0m\u001b[0murlopen\u001b[0m\u001b[0;34m(\u001b[0m\u001b[0mcurrURL\u001b[0m\u001b[0;34m)\u001b[0m\u001b[0;34m\u001b[0m\u001b[0;34m\u001b[0m\u001b[0m\n\u001b[0m\u001b[1;32m      5\u001b[0m \u001b[0mlines\u001b[0m \u001b[0;34m=\u001b[0m \u001b[0mresponse\u001b[0m\u001b[0;34m.\u001b[0m\u001b[0mreadlines\u001b[0m\u001b[0;34m(\u001b[0m\u001b[0;34m)\u001b[0m\u001b[0;34m\u001b[0m\u001b[0;34m\u001b[0m\u001b[0m\n\u001b[1;32m      6\u001b[0m \u001b[0;34m\u001b[0m\u001b[0m\n",
            "\u001b[0;31mAttributeError\u001b[0m: module 'urllib' has no attribute 'urlopen'"
          ]
        }
      ]
    }
  ]
}