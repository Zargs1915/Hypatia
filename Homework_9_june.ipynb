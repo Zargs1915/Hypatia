{
  "nbformat": 4,
  "nbformat_minor": 0,
  "metadata": {
    "colab": {
      "provenance": [],
      "authorship_tag": "ABX9TyNLleZC0zbuQ2HOC8g+A+gw",
      "include_colab_link": true
    },
    "kernelspec": {
      "name": "python3",
      "display_name": "Python 3"
    },
    "language_info": {
      "name": "python"
    }
  },
  "cells": [
    {
      "cell_type": "markdown",
      "metadata": {
        "id": "view-in-github",
        "colab_type": "text"
      },
      "source": [
        "<a href=\"https://colab.research.google.com/github/Zargs1915/Hypatia/blob/main/Homework_9_june.ipynb\" target=\"_parent\"><img src=\"https://colab.research.google.com/assets/colab-badge.svg\" alt=\"Open In Colab\"/></a>"
      ]
    },
    {
      "cell_type": "code",
      "source": [
        "hex_numbers = ['FF', 'F0', 'FFF']\n",
        "\n",
        "for hex_num in hex_numbers:\n",
        "    decimal_num = int(hex_num, 16)\n",
        "    print(f\"{hex_num} in decimal: {decimal_num}\")\n",
        ""
      ],
      "metadata": {
        "id": "NxCfT4-M6-VN",
        "outputId": "21af8bd0-00b0-4606-b805-51706e7c907b",
        "colab": {
          "base_uri": "https://localhost:8080/"
        }
      },
      "execution_count": 3,
      "outputs": [
        {
          "output_type": "stream",
          "name": "stdout",
          "text": [
            "FF in decimal: 255\n",
            "F0 in decimal: 240\n",
            "FFF in decimal: 4095\n"
          ]
        }
      ]
    }
  ]
}