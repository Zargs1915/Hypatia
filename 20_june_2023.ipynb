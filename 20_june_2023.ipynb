{
  "nbformat": 4,
  "nbformat_minor": 0,
  "metadata": {
    "colab": {
      "provenance": [],
      "authorship_tag": "ABX9TyOxNTpn47oPOZldo6hAhSUD",
      "include_colab_link": true
    },
    "kernelspec": {
      "name": "python3",
      "display_name": "Python 3"
    },
    "language_info": {
      "name": "python"
    }
  },
  "cells": [
    {
      "cell_type": "markdown",
      "metadata": {
        "id": "view-in-github",
        "colab_type": "text"
      },
      "source": [
        "<a href=\"https://colab.research.google.com/github/Zargs1915/Hypatia/blob/main/20_june_2023.ipynb\" target=\"_parent\"><img src=\"https://colab.research.google.com/assets/colab-badge.svg\" alt=\"Open In Colab\"/></a>"
      ]
    },
    {
      "cell_type": "code",
      "source": [
        "def find_gcd(a, b):\n",
        "    if a < b:\n",
        "        a, b = b, a  # Ensure a is the largest number\n",
        "\n",
        "    gcd = 0\n",
        "\n",
        "    while True:\n",
        "        gcd = a + b\n",
        "        a, b = max(a, b) - min(a, b), min(a, b)  # Subtract the smallest from the largest\n",
        "        if gcd <= 0:\n",
        "            break\n",
        "\n",
        "    return gcd\n",
        "\n",
        "a = 84\n",
        "b = 18\n",
        "result = find_gcd(a, b)\n",
        "print(\"GCD:\", result)\n"
      ],
      "metadata": {
        "id": "3PXKfUigEN5p"
      },
      "execution_count": null,
      "outputs": []
    }
  ]
}