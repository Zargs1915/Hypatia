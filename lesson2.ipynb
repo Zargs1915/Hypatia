{
  "nbformat": 4,
  "nbformat_minor": 0,
  "metadata": {
    "colab": {
      "provenance": [],
      "authorship_tag": "ABX9TyNricAYQSbhxg0NPsYEStvN",
      "include_colab_link": true
    },
    "kernelspec": {
      "name": "python3",
      "display_name": "Python 3"
    },
    "language_info": {
      "name": "python"
    }
  },
  "cells": [
    {
      "cell_type": "markdown",
      "metadata": {
        "id": "view-in-github",
        "colab_type": "text"
      },
      "source": [
        "<a href=\"https://colab.research.google.com/github/Zargs1915/Hypatia/blob/main/lesson2.ipynb\" target=\"_parent\"><img src=\"https://colab.research.google.com/assets/colab-badge.svg\" alt=\"Open In Colab\"/></a>"
      ]
    },
    {
      "cell_type": "code",
      "source": [
        "my_list = [10, 3.14, True, 'name=\"some value\"']\n",
        "\n",
        "print(my_list[2])  # This will output True\n",
        "\n",
        "for item in my_list:\n",
        "    print(item)\n",
        "\n"
      ],
      "metadata": {
        "colab": {
          "base_uri": "https://localhost:8080/"
        },
        "id": "4nkAVBgRgyBq",
        "outputId": "6448f566-1b02-4f5f-92a8-d264390c8836"
      },
      "execution_count": 2,
      "outputs": [
        {
          "output_type": "stream",
          "name": "stdout",
          "text": [
            "True\n",
            "10\n",
            "3.14\n",
            "True\n",
            "name=\"some value\"\n"
          ]
        }
      ]
    }
  ]
}