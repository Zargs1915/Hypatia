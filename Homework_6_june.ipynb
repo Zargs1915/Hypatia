{
  "nbformat": 4,
  "nbformat_minor": 0,
  "metadata": {
    "colab": {
      "provenance": [],
      "authorship_tag": "ABX9TyMUsJHpPZ0VrAiUqE8dTbI8",
      "include_colab_link": true
    },
    "kernelspec": {
      "name": "python3",
      "display_name": "Python 3"
    },
    "language_info": {
      "name": "python"
    }
  },
  "cells": [
    {
      "cell_type": "markdown",
      "metadata": {
        "id": "view-in-github",
        "colab_type": "text"
      },
      "source": [
        "<a href=\"https://colab.research.google.com/github/Zargs1915/Hypatia/blob/main/Homework_6_june.ipynb\" target=\"_parent\"><img src=\"https://colab.research.google.com/assets/colab-badge.svg\" alt=\"Open In Colab\"/></a>"
      ]
    },
    {
      "cell_type": "code",
      "source": [
        "def make_list_of_people(*names):\n",
        "    people_list = []  # Create an empty list to store the names\n",
        "    for name in names:\n",
        "        people_list.append(name)  # Add each name to the list\n",
        "    return people_list\n",
        "\n",
        "# Example usage:\n",
        "names_list = make_list_of_people(\"Walker\", \"Joaquim\", \"Ilias\")\n",
        "print(names_list)\n"
      ],
      "metadata": {
        "id": "qjZWOvDw6hl8",
        "outputId": "dc4155c5-d950-40f5-dffe-03270939a80e",
        "colab": {
          "base_uri": "https://localhost:8080/"
        }
      },
      "execution_count": 2,
      "outputs": [
        {
          "output_type": "stream",
          "name": "stdout",
          "text": [
            "['Walker', 'Joaquim', 'Ilias']\n"
          ]
        }
      ]
    }
  ]
}