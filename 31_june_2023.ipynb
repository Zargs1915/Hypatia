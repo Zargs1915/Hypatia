{
  "nbformat": 4,
  "nbformat_minor": 0,
  "metadata": {
    "colab": {
      "provenance": [],
      "authorship_tag": "ABX9TyOSGqKEg53J6uMbvX/H2xr6",
      "include_colab_link": true
    },
    "kernelspec": {
      "name": "python3",
      "display_name": "Python 3"
    },
    "language_info": {
      "name": "python"
    }
  },
  "cells": [
    {
      "cell_type": "markdown",
      "metadata": {
        "id": "view-in-github",
        "colab_type": "text"
      },
      "source": [
        "<a href=\"https://colab.research.google.com/github/Zargs1915/Hypatia/blob/main/31_june_2023.ipynb\" target=\"_parent\"><img src=\"https://colab.research.google.com/assets/colab-badge.svg\" alt=\"Open In Colab\"/></a>"
      ]
    },
    {
      "cell_type": "code",
      "source": [
        "import re\n",
        "\n",
        "city_names = ['Paphos, Cyprus', 'PaphosCyprus', 'Kiev', 'Kiev123']\n",
        "\n",
        "for city in city_names:\n",
        "    match = re.search(r'([A-Za-z]+)(\\d+)?', city)\n",
        "    if match:\n",
        "        print(match.group(1))\n"
      ],
      "metadata": {
        "id": "ea7vpGhECExs",
        "outputId": "5d7be6ff-e6d0-4e74-9bc7-4510937a7c55",
        "colab": {
          "base_uri": "https://localhost:8080/"
        }
      },
      "execution_count": 1,
      "outputs": [
        {
          "output_type": "stream",
          "name": "stdout",
          "text": [
            "Paphos\n",
            "PaphosCyprus\n",
            "Kiev\n",
            "Kiev\n"
          ]
        }
      ]
    }
  ]
}