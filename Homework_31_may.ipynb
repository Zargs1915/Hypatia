{
  "nbformat": 4,
  "nbformat_minor": 0,
  "metadata": {
    "colab": {
      "provenance": [],
      "authorship_tag": "ABX9TyO1qOWUZFWu9sR8BOtgm1Kx",
      "include_colab_link": true
    },
    "kernelspec": {
      "name": "python3",
      "display_name": "Python 3"
    },
    "language_info": {
      "name": "python"
    }
  },
  "cells": [
    {
      "cell_type": "markdown",
      "metadata": {
        "id": "view-in-github",
        "colab_type": "text"
      },
      "source": [
        "<a href=\"https://colab.research.google.com/github/Zargs1915/Hypatia/blob/main/Homework_31_may.ipynb\" target=\"_parent\"><img src=\"https://colab.research.google.com/assets/colab-badge.svg\" alt=\"Open In Colab\"/></a>"
      ]
    },
    {
      "cell_type": "code",
      "source": [
        "from datetime import datetime, timedelta\n",
        "\n",
        "# Get the current date and time\n",
        "current_datetime = datetime.now()\n",
        "\n",
        "# Print the day, month, hour, minute, and second using strftime\n",
        "day = current_datetime.strftime(\"%d\")\n",
        "month = current_datetime.strftime(\"%B\")\n",
        "hour = current_datetime.strftime(\"%H\")\n",
        "minute = current_datetime.strftime(\"%M\")\n",
        "second = current_datetime.strftime(\"%S\")\n",
        "\n",
        "print(\"Current Date and Time:\")\n",
        "print(\"Day: \", day)\n",
        "print(\"Month: \", month)\n",
        "print(\"Hour: \", hour)\n",
        "print(\"Minute: \", minute)\n",
        "print(\"Second: \", second)\n",
        "\n",
        "# Add 14 days, 14 hours, 14 minutes, and 14 seconds to the current date and time\n",
        "duration = timedelta(days=14, hours=14, minutes=14, seconds=14)\n",
        "future_datetime = current_datetime + duration\n",
        "\n",
        "print(\"\\nFuture Date and Time:\")\n",
        "print(future_datetime)\n"
      ],
      "metadata": {
        "id": "6QLWUun-5u7X",
        "outputId": "003c2405-9c53-4f4c-e4b9-0231c246e931",
        "colab": {
          "base_uri": "https://localhost:8080/"
        }
      },
      "execution_count": 1,
      "outputs": [
        {
          "output_type": "stream",
          "name": "stdout",
          "text": [
            "Current Date and Time:\n",
            "Day:  13\n",
            "Month:  June\n",
            "Hour:  08\n",
            "Minute:  37\n",
            "Second:  26\n",
            "\n",
            "Future Date and Time:\n",
            "2023-06-27 22:51:40.474166\n"
          ]
        }
      ]
    }
  ]
}